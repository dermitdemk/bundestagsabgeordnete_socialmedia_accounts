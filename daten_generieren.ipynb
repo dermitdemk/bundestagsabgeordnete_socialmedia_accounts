{
 "cells": [
  {
   "cell_type": "code",
   "execution_count": null,
   "metadata": {},
   "outputs": [],
   "source": [
    "import requests\n",
    "from bs4 import BeautifulSoup\n",
    "import csv \n",
    "import time\n",
    "from tqdm import tqdm\n",
    "import pandas as pd"
   ]
  },
  {
   "cell_type": "code",
   "execution_count": null,
   "metadata": {},
   "outputs": [],
   "source": [
    "### ruft die api auf und generiert damit eine Liste an links zu allen seiten der mdb\n",
    "offset= 0\n",
    "while True:\n",
    " \n",
    "    html = requests.get('https://www.bundestag.de/ajax/filterlist/de/abgeordnete/862712-862712?limit=12&noFilterSet=true&offset='+str(offset)).text\n",
    "    offset += 12\n",
    "    soup = BeautifulSoup(html,\"html.parser\")\n",
    "    links_zu_mdb = []\n",
    "    alle_divs = soup.findAll('div', class_='bt-slide-content')\n",
    "    for div in alle_divs:\n",
    "        link = div.find('a')['href']\n",
    "        link = 'https://www.bundestag.de' + link\n",
    "        links_zu_mdb.append(link)\n",
    "        print(link)\n",
    "    with open ('links_zu_allen_mdb.csv',\"a\") as file:\n",
    "        writer = csv.writer(file)\n",
    "        for p in links_zu_mdb:\n",
    "            writer.writerow([p])\n",
    "    if 'Leider keine Ergebnisse gefunden' in soup.find('h3').text:\n",
    "        break\n",
    "    time.sleep(2)"
   ]
  },
  {
   "cell_type": "code",
   "execution_count": null,
   "metadata": {},
   "outputs": [],
   "source": [
    "## geht durch die liste an links zu den mdb durch und sucht sich deren partei und link zu ihren sm profilen raus\n",
    "liste_daten_aller_mdb =[]\n",
    "with open('links_zu_allen_mdb.csv','r') as file:\n",
    "    data = csv.reader(file)\n",
    "    for i in tqdm(data):  \n",
    "        link_zu_mdb =  (i[0])\n",
    "        liste_daten_des_mdb =[]\n",
    "        fenster = ''\n",
    "        partei = 'no_data'\n",
    "        try:\n",
    "            html = requests.get(link_zu_mdb).text\n",
    "            soup = BeautifulSoup(html,\"html.parser\")\n",
    "            fenster = soup.find('div',class_='bt-profil row')\n",
    "            profile = fenster.find('div',class_= 'col-xs-12 col-md-4')\n",
    "            if profile:\n",
    "                bt_link_liste = profile.find('ul',class_= 'bt-linkliste')\n",
    "                if bt_link_liste:\n",
    "                    links = bt_link_liste.find_all('a')\n",
    "                    link_liste =[]\n",
    "                    for link in links:\n",
    "                        link_dic = {'title': link['title'], 'url': link['href']}\n",
    "                        link_liste.append(link_dic)\n",
    "                    h3 = fenster.find('h3').text\n",
    "                    partei = (h3.split(','))[1]\n",
    "                    partei = (partei.split('\\n'))[0]\n",
    "                else:\n",
    "                    link_liste = 'no_data'\n",
    "            else:\n",
    "                link_liste = 'no_data'\n",
    "        except:\n",
    "            link_liste = 'no_data'\n",
    "            partei = 'error'\n",
    "        liste_daten_aller_mdb.append([link_zu_mdb,partei,link_liste])\n",
    "        liste_daten_des_mdb.append([link_zu_mdb,partei,link_liste])\n",
    "        with open('daten_aller_abgeordneten_27_06_zwei.csv',\"a\",newline='')as file:\n",
    "            writer = csv.writer(file)\n",
    "            writer.writerow([liste_daten_des_mdb])\n",
    "        time.sleep(1)\n"
   ]
  },
  {
   "cell_type": "code",
   "execution_count": null,
   "metadata": {},
   "outputs": [],
   "source": [
    "## speichert die daten in einem besseren format ab\n",
    "df = pd.DataFrame(liste_daten_aller_mdb,columns = ['mdb','partei','link'])\n",
    "df.to_csv('daten_aller_abgeordneten_27_06_drei.csv',index=None)"
   ]
  }
 ],
 "metadata": {
  "language_info": {
   "name": "python"
  },
  "orig_nbformat": 4
 },
 "nbformat": 4,
 "nbformat_minor": 2
}
